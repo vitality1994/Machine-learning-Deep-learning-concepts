{
 "cells": [
  {
   "cell_type": "code",
   "execution_count": 114,
   "metadata": {},
   "outputs": [],
   "source": [
    "from sklearn.datasets import load_breast_cancer\n",
    "import numpy as np\n",
    "from sklearn.model_selection import train_test_split\n",
    "\n",
    "cancer = load_breast_cancer()\n",
    "\n",
    "x = cancer.data\n",
    "y = cancer.target\n",
    "\n",
    "x_train, x_test, y_train, y_test = train_test_split(x, y, stratify = y, test_size = 0.2, random_state=42)\n",
    "\n",
    "class LogisticNeuron:\n",
    "    \n",
    "    def __init__(self):\n",
    "        self.w = None\n",
    "        self.b = None\n",
    "        self.losses = [] # 평균손실값을 저장할 리스트. ift함수실행과 함께 자동생성\n",
    "        \n",
    "    def forpass(self, x): \n",
    "        z = np.sum(x * self.w) + self.b\n",
    "        return z \n",
    "    \n",
    "    def activation(self, z):\n",
    "        a = 1 / (1 + np.exp(-z)) \n",
    "        return a\n",
    "    \n",
    "    def backprop(self, x, err):\n",
    "        w_grad = -x * err\n",
    "        b_grad = -1 * err\n",
    "        return w_grad, b_grad\n",
    "    \n",
    "    def fit(self, x, y, epochs = 100):\n",
    "        self.w = np.ones(x.shape[1])\n",
    "        self.b = 0\n",
    "        for i in range(epochs):\n",
    "            loss = 0\n",
    "            indexes = np.random.permutation(range(len(y)))\n",
    "            # 모든샘플을 돌 때까지 가중치 절편을 업데이트하는데\n",
    "            # 샘플을 뽑는 순서를 매 에포크마다 다르게 한다.\n",
    "            for i in indexes:\n",
    "                    z = self.forpass(x[i]) \n",
    "                    a = self.activation(z)\n",
    "                    err = y[i] - a\n",
    "                    w_grad, b_grad = self.backprop(x[i], err)\n",
    "                    self.w = self.w - w_grad\n",
    "                    self.b = self.b - b_grad\n",
    "                    a = np.clip(a, 1e-10, 1-1e-10)\n",
    "                    # a가 1이나 0이 되어버리면 솜실함숭안의 로그가 -무한이 되어버려\n",
    "                    # 손실함수의 변화를 관찰할 수 없기 때문에 \n",
    "                    # 1e-10 (10^-10), 1-1e-10 (1-10^-10) 으로 제한한다.\n",
    "                    loss -= (y[i]*np.log(a)+(1-y[i])*np.log(1-a))\n",
    "                    # 0이었던 loss는 샘플을 돌면서 값을 가지고\n",
    "            self.losses.append(loss/len(y))\n",
    "            # 위에서 합친 loss를 샘플 수로 나눠 평균으로 구하고 리스트에 담는다.\n",
    "        return self.losses\n",
    "        \n",
    "    def predict(self, x):\n",
    "        z = [self.forpass(x_i) for x_i in x]\n",
    "        a = self.activation(np.array(z))\n",
    "        return a > 0.5"
   ]
  },
  {
   "cell_type": "code",
   "execution_count": 119,
   "metadata": {},
   "outputs": [
    {
     "data": {
      "text/plain": [
       "0.8245614035087719"
      ]
     },
     "execution_count": 119,
     "metadata": {},
     "output_type": "execute_result"
    }
   ],
   "source": [
    "neuron = LogisticNeuron()\n",
    "neuron.fit(x_train, y_train)\n",
    "neuron.predict(x_test)\n",
    "\n",
    "np.mean(neuron.predict(x_test) == y_test)"
   ]
  },
  {
   "cell_type": "code",
   "execution_count": 94,
   "metadata": {},
   "outputs": [
    {
     "data": {
      "text/plain": [
       "[8.754883970015818,\n",
       " 5.212445368334512,\n",
       " 4.807595242641099,\n",
       " 4.453351382545701,\n",
       " 5.465476697052013,\n",
       " 4.0485012564886,\n",
       " 4.149713787866492,\n",
       " 4.301532585024255,\n",
       " 4.301532585206095,\n",
       " 3.593044865197159,\n",
       " 4.554563913378056,\n",
       " 3.491832333637426,\n",
       " 3.3400135362978194,\n",
       " 4.149713787684647,\n",
       " 3.5930448646516266,\n",
       " 2.732738347848624,\n",
       " 3.036375941982297,\n",
       " 3.2894072705179482,\n",
       " 2.935163410422563,\n",
       " 3.2388010047380824,\n",
       " 2.9857696763842707,\n",
       " 3.8966824589671427,\n",
       " 2.985769676566127,\n",
       " 3.0869822077621696,\n",
       " 3.238801004738087,\n",
       " 3.036375941800455,\n",
       " 2.4797070193129773,\n",
       " 3.188194738958213,\n",
       " 3.4412260676757103,\n",
       " 3.4918323334555823,\n",
       " 2.8845571448245373,\n",
       " 2.7833446132648003,\n",
       " 3.542438598871755,\n",
       " 2.682132081886909,\n",
       " 3.238801004738083,\n",
       " 2.935163410422565,\n",
       " 3.036375941800453,\n",
       " 2.3784944877532346,\n",
       " 3.4412260674938597,\n",
       " 3.036375941800456,\n",
       " 3.390619801713998,\n",
       " 2.9351634106044115,\n",
       " 2.580919550327174,\n",
       " 3.0363759419822993,\n",
       " 2.9857696760205816,\n",
       " 2.7327383476667855,\n",
       " 2.88455714500639,\n",
       " 3.4412260673120185,\n",
       " 2.9857696760205816,\n",
       " 2.98576967602058,\n",
       " 3.289407270336105,\n",
       " 2.985769675838732,\n",
       " 3.086982207580324,\n",
       " 2.8845571448245386,\n",
       " 2.884557144642689,\n",
       " 2.429100753351253,\n",
       " 3.137588473178338,\n",
       " 2.6315258162888857,\n",
       " 3.0869822073984783,\n",
       " 2.530313284729141,\n",
       " 2.833950878862821,\n",
       " 2.833950879044669,\n",
       " 3.036375941800453,\n",
       " 3.0363759419822953,\n",
       " 2.8339508788628267,\n",
       " 3.13758847336019,\n",
       " 2.884557144824537,\n",
       " 3.2894072701542596,\n",
       " 3.0869822072166255,\n",
       " 2.732738347666779,\n",
       " 3.0363759418004515,\n",
       " 2.58091955050902,\n",
       " 2.985769676020587,\n",
       " 2.985769675838738,\n",
       " 2.7833446130829573,\n",
       " 3.1375884731783437,\n",
       " 3.1375884731783357,\n",
       " 2.732738347484928,\n",
       " 2.530313284729146,\n",
       " 2.530313284729149,\n",
       " 3.137588473178343,\n",
       " 3.0869822075803235,\n",
       " 2.580919550509014,\n",
       " 2.88455714482454,\n",
       " 2.631525816107043,\n",
       " 2.833950879044674,\n",
       " 2.6821320818869085,\n",
       " 2.3784944875713894,\n",
       " 2.6315258164707314,\n",
       " 3.086982207580318,\n",
       " 2.935163410422558,\n",
       " 2.6821320817050545,\n",
       " 2.7833446130829587,\n",
       " 2.8845571446426885,\n",
       " 3.036375941800452,\n",
       " 2.4291007535331,\n",
       " 2.429100753351258,\n",
       " 2.47970701894928,\n",
       " 2.9857696762024286,\n",
       " 2.5809195505090186]"
      ]
     },
     "execution_count": 94,
     "metadata": {},
     "output_type": "execute_result"
    }
   ],
   "source": [
    "neuron.losses"
   ]
  },
  {
   "cell_type": "code",
   "execution_count": 121,
   "metadata": {},
   "outputs": [
    {
     "data": {
      "text/plain": [
       "[<matplotlib.lines.Line2D at 0x2e2ae235608>]"
      ]
     },
     "execution_count": 121,
     "metadata": {},
     "output_type": "execute_result"
    },
    {
     "data": {
      "image/png": "[encoded data removed]",
      "text/plain": [
       "<Figure size 432x288 with 1 Axes>"
      ]
     },
     "metadata": {
      "needs_background": "light"
     },
     "output_type": "display_data"
    }
   ],
   "source": [
    "import matplotlib.pyplot as plt\n",
    "plt.plot(neuron.losses)"
   ]
  },
  {
   "cell_type": "code",
   "execution_count": 139,
   "metadata": {},
   "outputs": [
    {
     "name": "stdout",
     "output_type": "stream",
     "text": [
      "0.7807017543859649\n"
     ]
    }
   ],
   "source": [
    "from sklearn.linear_model import SGDClassifier\n",
    "sgd = SGDClassifier(loss = 'log', max_iter = 100, tol = 1e-3)\n",
    "\n",
    "sgd.fit(x_train, y_train)\n",
    "print(sgd.score(x_test, y_test))"
   ]
  },
  {
   "cell_type": "raw",
   "metadata": {},
   "source": [
    "안에 사용되는 개념을 알았으니 이제는 \n",
    "여러가지 특성값을 가진 샘플들이 있고 각각 타겟값(True or False)을 가지고 있을 때\n",
    "sklearn.linear_model 모듈의 SGDClassifier함수를 이용해서\n",
    "훈련셋들을 이용해 훈련시키고 (모델을 찾고 = w(가중치)와 b(절편))\n",
    "score을 통해 훈련셋을 이용해 만든 모델에 x_test를 넣은 결과(예측값)가\n",
    "y_test(타겟값)과 얼마나 일치하는지 테스트 할 수 있다.\n"
   ]
  }
 ],
 "metadata": {
  "kernelspec": {
   "display_name": "Python 3",
   "language": "python",
   "name": "python3"
  },
  "language_info": {
   "codemirror_mode": {
    "name": "ipython",
    "version": 3
   },
   "file_extension": ".py",
   "mimetype": "text/x-python",
   "name": "python",
   "nbconvert_exporter": "python",
   "pygments_lexer": "ipython3",
   "version": "3.7.4"
  }
 },
 "nbformat": 4,
 "nbformat_minor": 2
}
