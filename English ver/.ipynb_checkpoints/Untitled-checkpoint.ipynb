{
 "cells": [
  {
   "cell_type": "code",
   "execution_count": 1,
   "metadata": {},
   "outputs": [],
   "source": [
    "import numpy as np\n",
    "from sklearn.datasets import load_breast_cancer\n",
    "cancer = load_breast_cancer()\n",
    "\n",
    "x = cancer.data\n",
    "y = cancer.target\n",
    "\n",
    "\n",
    "from sklearn.model_selection import train_test_split\n",
    "x_train_all, x_test, y_train_all, y_test = train_test_split(x, y, stratify=y, test_size=0.2, random_state=42)\n",
    "x_train, x_val, y_train, y_val = train_test_split(x_train_all, y_train_all, stratify=y_train_all, test_size=0.2, random_state=42)"
   ]
  },
  {
   "cell_type": "code",
   "execution_count": 19,
   "metadata": {},
   "outputs": [],
   "source": [
    " class LogisticNeuron:\n",
    "    \n",
    "    def __init__(self, learning_rate = 0.1):\n",
    "        self.w = None;\n",
    "        self.b = None;\n",
    "        self.losses = []\n",
    "        self.val_losses = []\n",
    "        # we will save sum of value of loss function every epochs.\n",
    "        self.w_history = []\n",
    "        self.lr = learning_rate\n",
    "            \n",
    "            \n",
    "            \n",
    "    def forpass(self, x):\n",
    "        z = np.sum(x * self.w) + self.b\n",
    "        return z\n",
    "    \n",
    "    def backprop(self, x, err):\n",
    "        w_grad = x * err\n",
    "        b_grad = 1 * err\n",
    "        return w_grad, b_grad\n",
    "    \n",
    "    def activation(self, z):\n",
    "        a = 1/(1+np.exp(-z))\n",
    "        return a\n",
    "    \n",
    "    def update_val_loss(self, x_val, y_val):\n",
    "        if x_val is None:\n",
    "            return\n",
    "        val_loss = 0;\n",
    "        for i in range(len(x_val)):\n",
    "            z = self.forpass(x_val[i])\n",
    "            a = self.activation(z)\n",
    "            a = np.clip(a, 1e-10, 1-1e-10)\n",
    "            val_loss = val_loss + (-(y_val[i]*np.log(a)+(1-y_val[i])*np.log(1-a)))\n",
    "        self.val_losses.append(val_loss/len(y_val))\n",
    "    \n",
    "    def fit(self, x, y, epochs=100, x_val = None, y_val=None):\n",
    "        self.w = np.ones(x.shape[1]) \n",
    "        self.b = 0\n",
    "        self.w_history.append(self.w.copy())\n",
    "        for i in range(epochs):\n",
    "            loss = 0;\n",
    "            indexes = np.random.permutation(np.arange(len(x)))\n",
    "            for i in indexes:\n",
    "                z = self.forpass(x[i])\n",
    "                a = self.activation(z)\n",
    "                err = -(y[i] - a)\n",
    "                w_grad, b_grad = self.backprop(x[i], err)\n",
    "                self.w -= self.lr * w_grad\n",
    "                self.b -= b_grad\n",
    "                self.w_history.append(self.w.copy())\n",
    "                a = np.clip(a, 1e-10, 1-1e-10) \n",
    "                loss = loss + (- (y[i]*np.log(a)+(1-y[i])*np.log(1-a)))\n",
    "            self.losses.append(loss/len(y))\n",
    "            self.update_val_loss(x_val, y_val)\n",
    "                \n",
    "                \n",
    "    def predict(self, x):\n",
    "        z = [self.forpass(x_i) for x_i in x]\n",
    "        a = self.activation(np.array(z))\n",
    "        return a>0.5\n",
    "    \n",
    "    def score(self, x, y):\n",
    "        return np.mean(self.predict(x)==y)\n"
   ]
  },
  {
   "cell_type": "code",
   "execution_count": 21,
   "metadata": {},
   "outputs": [
    {
     "data": {
      "text/plain": [
       "0.967032967032967"
      ]
     },
     "execution_count": 21,
     "metadata": {},
     "output_type": "execute_result"
    }
   ],
   "source": [
    "train_mean = np.mean(x_train, axis =0)\n",
    "train_std = np.std(x_train, axis=0)\n",
    "x_train_scaled = (x_train - train_mean) / train_std\n",
    "x_val_scaled = (x_val - train_mean) / train_std\n",
    "\n",
    "\n",
    "neuron = LogisticNeuron()\n",
    "neuron.fit(x_train_scaled, y_train, x_val = x_val_scaled, y_val=y_val)\n",
    "neuron.score(x_val_scaled, y_val)"
   ]
  },
  {
   "cell_type": "code",
   "execution_count": 23,
   "metadata": {},
   "outputs": [
    {
     "data": {
      "image/png": "[encoded data removed]",
      "text/plain": [
       "<Figure size 432x288 with 1 Axes>"
      ]
     },
     "metadata": {
      "needs_background": "light"
     },
     "output_type": "display_data"
    }
   ],
   "source": [
    "import matplotlib.pyplot as plt\n",
    "\n",
    "plt.ylim(0, 0.3)\n",
    "plt.plot(neuron.losses)\n",
    "plt.plot(neuron.val_losses)\n",
    "plt.xlabel('epoch')\n",
    "plt.ylabel('loss')\n",
    "plt.legend(['train_loss', 'val_loss'])\n",
    "plt.show()"
   ]
  },
  {
   "cell_type": "markdown",
   "metadata": {},
   "source": [
    "We can see that loss of train and loss of validation is closest when the epoch is 20."
   ]
  },
  {
   "cell_type": "code",
   "execution_count": 16,
   "metadata": {},
   "outputs": [],
   "source": [
    " class LogisticNeuron:\n",
    "    \n",
    "    def __init__(self, learning_rate = 0.1):\n",
    "        self.w = None;\n",
    "        self.b = None;\n",
    "        self.losses = []\n",
    "        self.val_losses = []\n",
    "        # we will save sum of value of loss function every epochs.\n",
    "        self.w_history = []\n",
    "        self.lr = learning_rate\n",
    "            \n",
    "            \n",
    "            \n",
    "    def forpass(self, x):\n",
    "        z = np.sum(x * self.w) + self.b\n",
    "        return z\n",
    "    \n",
    "    def backprop(self, x, err):\n",
    "        w_grad = x * err\n",
    "        b_grad = 1 * err\n",
    "        return w_grad, b_grad\n",
    "    \n",
    "    def activation(self, z):\n",
    "        a = 1/(1+np.exp(-z))\n",
    "        return a\n",
    "    \n",
    "    def update_val_loss(self, x_val, y_val):\n",
    "        if x_val is None:\n",
    "            return\n",
    "        val_loss = 0;\n",
    "        for i in range(len(x_val)):\n",
    "            z = self.forpass(x_val[i])\n",
    "            a = self.activation(z)\n",
    "            a = np.clip(a, 1e-10, 1-1e-10)\n",
    "            val_loss = val_loss + (-(y_val[i]*np.log(a)+(1-y_val[i])*np.log(1-a)))\n",
    "        self.val_losses.append(val_loss/len(y_val))\n",
    "    \n",
    "    def fit(self, x, y, epochs=20, x_val = None, y_val=None):\n",
    "        self.w = np.ones(x.shape[1]) \n",
    "        self.b = 0\n",
    "        self.w_history.append(self.w.copy())\n",
    "        for i in range(epochs):\n",
    "            loss = 0;\n",
    "            indexes = np.random.permutation(np.arange(len(x)))\n",
    "            for i in indexes:\n",
    "                z = self.forpass(x[i])\n",
    "                a = self.activation(z)\n",
    "                err = -(y[i] - a)\n",
    "                w_grad, b_grad = self.backprop(x[i], err)\n",
    "                self.w -= self.lr * w_grad\n",
    "                self.b -= b_grad\n",
    "                self.w_history.append(self.w.copy())\n",
    "                a = np.clip(a, 1e-10, 1-1e-10) \n",
    "                loss = loss + (- (y[i]*np.log(a)+(1-y[i])*np.log(1-a)))\n",
    "            self.losses.append(loss/len(y))\n",
    "            self.update_val_loss(x_val, y_val)\n",
    "                \n",
    "                \n",
    "    def predict(self, x):\n",
    "        z = [self.forpass(x_i) for x_i in x]\n",
    "        a = self.activation(np.array(z))\n",
    "        return a>0.5\n",
    "    \n",
    "    def score(self, x, y):\n",
    "        return np.mean(self.predict(x)==y)\n"
   ]
  },
  {
   "cell_type": "code",
   "execution_count": 17,
   "metadata": {},
   "outputs": [
    {
     "data": {
      "text/plain": [
       "0.978021978021978"
      ]
     },
     "execution_count": 17,
     "metadata": {},
     "output_type": "execute_result"
    }
   ],
   "source": [
    "neuron = LogisticNeuron()\n",
    "neuron.fit(x_train_scaled, y_train, x_val = x_val_scaled, y_val=y_val)\n",
    "neuron.score(x_val_scaled, y_val)"
   ]
  },
  {
   "cell_type": "markdown",
   "metadata": {},
   "source": [
    "Accuracy is higher when the epoch is 20."
   ]
  }
 ],
 "metadata": {
  "kernelspec": {
   "display_name": "Python 3",
   "language": "python",
   "name": "python3"
  },
  "language_info": {
   "codemirror_mode": {
    "name": "ipython",
    "version": 3
   },
   "file_extension": ".py",
   "mimetype": "text/x-python",
   "name": "python",
   "nbconvert_exporter": "python",
   "pygments_lexer": "ipython3",
   "version": "3.7.4"
  }
 },
 "nbformat": 4,
 "nbformat_minor": 2
}
