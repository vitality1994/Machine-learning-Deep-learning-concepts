{
 "cells": [
  {
   "cell_type": "code",
   "execution_count": 1,
   "metadata": {},
   "outputs": [],
   "source": [
    "from sklearn.datasets import load_diabetes\n",
    "diabetes = load_diabetes()  \n",
    "\n",
    "x = diabetes.data[:, 2]\n",
    "y = diabetes.target\n",
    "\n",
    "# How to update weight and intercept using a rate of change.\n",
    "\n",
    "# Order\n",
    "# 1. Pick random numbers for a weight(w) and intercept(b)\n",
    "# 2. Input random one feature value, and calculate y^ which is the predicted target value.\n",
    "# 3. Compare between y^ and real target data y.\n",
    "# 4. Regulate w and b to make y^ is closer to y.\n",
    "# 5. Do 1 ~ 4 untiㅣ processing last sample."
   ]
  },
  {
   "cell_type": "code",
   "execution_count": 2,
   "metadata": {},
   "outputs": [
    {
     "name": "stdout",
     "output_type": "stream",
     "text": [
      "1.0616962065186886\n"
     ]
    }
   ],
   "source": [
    "# Initialize w and b\n",
    "w = 1.0 \n",
    "b = 1.0\n",
    "\n",
    "y_hat = x[0]*w + b\n",
    "print(y_hat)\n",
    "# predict target value when w = 1 and b = 1."
   ]
  },
  {
   "cell_type": "code",
   "execution_count": 3,
   "metadata": {},
   "outputs": [
    {
     "name": "stdout",
     "output_type": "stream",
     "text": [
      "149.9383037934813\n"
     ]
    }
   ],
   "source": [
    "print(y[0] - y_hat)\n",
    "# error is 149.93830..."
   ]
  },
  {
   "cell_type": "code",
   "execution_count": 4,
   "metadata": {},
   "outputs": [],
   "source": [
    "w_inc = w + 0.1\n",
    "y_hat_new = x[0]*w_inc + b"
   ]
  },
  {
   "cell_type": "code",
   "execution_count": 6,
   "metadata": {},
   "outputs": [
    {
     "name": "stdout",
     "output_type": "stream",
     "text": [
      "0.061696206518688734\n"
     ]
    }
   ],
   "source": [
    "w_rate = (y_hat_new - y_hat) / (w_inc - w) #rate of change of y in terms of w.\n",
    "print(w_rate)"
   ]
  },
  {
   "cell_type": "code",
   "execution_count": 7,
   "metadata": {},
   "outputs": [
    {
     "name": "stdout",
     "output_type": "stream",
     "text": [
      "1.0616962065186888\n"
     ]
    }
   ],
   "source": [
    "# Convenience way to update w.\n",
    "# when the rate of change of y^ is positive in terms of w,\n",
    "# to increase y^ we can add 'rate of change of y^' to w. \n",
    "# (w is bigger now -> y^ is bigger now)\n",
    "\n",
    "# when the rate of change of y^ is negative in terms of w,\n",
    "# to increase y^ we can add 'rate of change of y^' to w. \n",
    "# (w is smaller(because the rate of change of y^ is negative), y^ is bigger now)\n",
    "\n",
    "# Conclusion. In both cases, we have to add 'rate of change of y^' to w to update w properly.\n",
    "\n",
    "w_new = w + w_rate\n",
    "print(w_new)"
   ]
  },
  {
   "cell_type": "code",
   "execution_count": null,
   "metadata": {},
   "outputs": [],
   "source": [
    "# In the same way, we can update b (intercept)."
   ]
  }
 ],
 "metadata": {
  "kernelspec": {
   "display_name": "Python 3",
   "language": "python",
   "name": "python3"
  },
  "language_info": {
   "codemirror_mode": {
    "name": "ipython",
    "version": 3
   },
   "file_extension": ".py",
   "mimetype": "text/x-python",
   "name": "python",
   "nbconvert_exporter": "python",
   "pygments_lexer": "ipython3",
   "version": "3.7.4"
  }
 },
 "nbformat": 4,
 "nbformat_minor": 2
}
