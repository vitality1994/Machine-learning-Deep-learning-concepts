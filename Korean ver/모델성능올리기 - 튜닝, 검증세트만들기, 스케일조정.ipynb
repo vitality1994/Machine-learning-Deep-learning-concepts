{
 "cells": [
  {
   "cell_type": "code",
   "execution_count": 5,
   "metadata": {},
   "outputs": [],
   "source": [
    "from sklearn.datasets import load_breast_cancer\n",
    "cancer = load_breast_cancer()\n",
    "\n",
    "x = cancer.data\n",
    "y = cancer.target"
   ]
  },
  {
   "cell_type": "code",
   "execution_count": 67,
   "metadata": {},
   "outputs": [],
   "source": [
    "from sklearn.model_selection import train_test_split\n",
    "x_train_all, x_test, y_train_all, y_test = train_test_split(x, y, stratify = y, test_size = 0.2, random_state = 42)\n",
    "x_train, x_val, y_train, y_val = train_test_split(x_train_all, y_train_all, stratify = y_train_all, test_size = 0.2, random_state = 42)   "
   ]
  },
  {
   "cell_type": "code",
   "execution_count": 107,
   "metadata": {},
   "outputs": [
    {
     "data": {
      "text/plain": [
       "0.6923076923076923"
      ]
     },
     "execution_count": 107,
     "metadata": {},
     "output_type": "execute_result"
    }
   ],
   "source": [
    "from sklearn.linear_model import SGDClassifier\n",
    "sgd = SGDClassifier(loss = 'log', random_state = 42)\n",
    "# 손실함수로 hinge를 쓰니 정확도가 올라갔다.\n",
    "sgd.fit(x_train, y_train)\n",
    "sgd.score(x_val, y_val)\n",
    "          \n",
    "# 검증세트를 가지고 손실함수를 바꿔가면 정확도를 체크 후 (튜닝 후)\n",
    "# 남아있던 테스트셋으로 테스트."
   ]
  },
  {
   "cell_type": "code",
   "execution_count": 108,
   "metadata": {},
   "outputs": [
    {
     "data": {
      "text/plain": [
       "0.9230769230769231"
      ]
     },
     "execution_count": 108,
     "metadata": {},
     "output_type": "execute_result"
    }
   ],
   "source": [
    "from sklearn.linear_model import SGDClassifier\n",
    "sgd = SGDClassifier(loss = 'hinge', random_state = 42)\n",
    "# 손실함수로 hinge를 쓰니 정확도가 올라갔다.\n",
    "sgd.fit(x_train, y_train)\n",
    "sgd.score(x_val, y_val)\n",
    "\n",
    "# hinge를 손실함수로 썼을 때 정확도가 가장 높다는 걸 검증세트로 부터 알아냄."
   ]
  },
  {
   "cell_type": "code",
   "execution_count": 130,
   "metadata": {},
   "outputs": [
    {
     "data": {
      "text/plain": [
       "0.9035087719298246"
      ]
     },
     "execution_count": 130,
     "metadata": {},
     "output_type": "execute_result"
    }
   ],
   "source": [
    "from sklearn.linear_model import SGDClassifier\n",
    "sgd = SGDClassifier(loss = 'hinge', random_state = 42)\n",
    "# 손실함수로 hinge를 쓰니 정확도가 올라갔다.\n",
    "sgd.fit(x_train, y_train)\n",
    "sgd.score(x_test, y_test)"
   ]
  },
  {
   "cell_type": "code",
   "execution_count": 110,
   "metadata": {},
   "outputs": [
    {
     "data": {
      "image/png": "[encoded data removed]",
      "text/plain": [
       "<Figure size 432x288 with 1 Axes>"
      ]
     },
     "metadata": {
      "needs_background": "dark"
     },
     "output_type": "display_data"
    }
   ],
   "source": [
    "import matplotlib.pyplot as plt\n",
    "plt.boxplot(x_train[:, 2:4])\n",
    "plt.xticks(color = 'y')\n",
    "plt.yticks(color = 'y')\n",
    "plt.show()\n",
    "\n",
    "# 두 특성의 값들의 크기들이 차이가 커 가중치가 불안정하게 업데이트된다.\n",
    "# 가중치가 좀 더 안정적으로 업데이트되면 정확도도 올라가므로\n",
    "# 스케일을 조정해준다."
   ]
  },
  {
   "cell_type": "code",
   "execution_count": 111,
   "metadata": {},
   "outputs": [],
   "source": [
    "import numpy as np\n",
    "train_mean = np.mean(x_train, axis = 0)\n",
    "train_std = np.std(x_train, axis = 0)\n",
    "\n",
    "# 훈련세트의 평균과 표준편차를 구해서\n",
    "# 검증, 테스트셋 모두 표준화시켜준다. ( z = (x - mean) / (std))"
   ]
  },
  {
   "cell_type": "code",
   "execution_count": 102,
   "metadata": {},
   "outputs": [],
   "source": [
    "x_train_scaled = (x_train - train_mean) / train_std"
   ]
  },
  {
   "cell_type": "code",
   "execution_count": 116,
   "metadata": {},
   "outputs": [],
   "source": [
    "x_val_scaled = (x_val - train_mean) / train_std"
   ]
  },
  {
   "cell_type": "code",
   "execution_count": 117,
   "metadata": {},
   "outputs": [],
   "source": [
    "x_test_scaled = (x_test - train_mean) / train_std"
   ]
  },
  {
   "cell_type": "code",
   "execution_count": 126,
   "metadata": {},
   "outputs": [
    {
     "data": {
      "text/plain": [
       "0.989010989010989"
      ]
     },
     "execution_count": 126,
     "metadata": {},
     "output_type": "execute_result"
    }
   ],
   "source": [
    "from sklearn.linear_model import SGDClassifier\n",
    "sgd = SGDClassifier(loss = 'log', random_state = 42)\n",
    "sgd.fit(x_train_scaled, y_train)\n",
    "sgd.score(x_val_scaled, y_val)\n",
    "\n",
    "# 표준화시키니 정확도가 올라갔다."
   ]
  },
  {
   "cell_type": "code",
   "execution_count": 129,
   "metadata": {},
   "outputs": [
    {
     "data": {
      "text/plain": [
       "0.9473684210526315"
      ]
     },
     "execution_count": 129,
     "metadata": {},
     "output_type": "execute_result"
    }
   ],
   "source": [
    "from sklearn.linear_model import SGDClassifier\n",
    "sgd = SGDClassifier(loss = 'log', random_state = 42)\n",
    "sgd.fit(x_train_scaled, y_train)\n",
    "sgd.score(x_test_scaled, y_test)\n",
    "\n",
    "# 표준화시키니 정확도가 올라갔다."
   ]
  }
 ],
 "metadata": {
  "kernelspec": {
   "display_name": "Python 3",
   "language": "python",
   "name": "python3"
  },
  "language_info": {
   "codemirror_mode": {
    "name": "ipython",
    "version": 3
   },
   "file_extension": ".py",
   "mimetype": "text/x-python",
   "name": "python",
   "nbconvert_exporter": "python",
   "pygments_lexer": "ipython3",
   "version": "3.7.4"
  }
 },
 "nbformat": 4,
 "nbformat_minor": 2
}
