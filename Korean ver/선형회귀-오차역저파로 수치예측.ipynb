{
 "cells": [
  {
   "cell_type": "code",
   "execution_count": 1,
   "metadata": {},
   "outputs": [
    {
     "data": {
      "text/plain": [
       "array([[ 0.03807591,  0.05068012,  0.06169621, ..., -0.00259226,\n",
       "         0.01990842, -0.01764613],\n",
       "       [-0.00188202, -0.04464164, -0.05147406, ..., -0.03949338,\n",
       "        -0.06832974, -0.09220405],\n",
       "       [ 0.08529891,  0.05068012,  0.04445121, ..., -0.00259226,\n",
       "         0.00286377, -0.02593034],\n",
       "       ...,\n",
       "       [ 0.04170844,  0.05068012, -0.01590626, ..., -0.01107952,\n",
       "        -0.04687948,  0.01549073],\n",
       "       [-0.04547248, -0.04464164,  0.03906215, ...,  0.02655962,\n",
       "         0.04452837, -0.02593034],\n",
       "       [-0.04547248, -0.04464164, -0.0730303 , ..., -0.03949338,\n",
       "        -0.00421986,  0.00306441]])"
      ]
     },
     "execution_count": 1,
     "metadata": {},
     "output_type": "execute_result"
    }
   ],
   "source": [
    "from sklearn.datasets import load_diabetes\n",
    "\n",
    "load_diabetes().data"
   ]
  },
  {
   "cell_type": "code",
   "execution_count": 2,
   "metadata": {},
   "outputs": [
    {
     "data": {
      "text/plain": [
       "array([[ 0.03807591,  0.05068012,  0.06169621, ..., -0.00259226,\n",
       "         0.01990842, -0.01764613],\n",
       "       [-0.00188202, -0.04464164, -0.05147406, ..., -0.03949338,\n",
       "        -0.06832974, -0.09220405],\n",
       "       [ 0.08529891,  0.05068012,  0.04445121, ..., -0.00259226,\n",
       "         0.00286377, -0.02593034],\n",
       "       ...,\n",
       "       [ 0.04170844,  0.05068012, -0.01590626, ..., -0.01107952,\n",
       "        -0.04687948,  0.01549073],\n",
       "       [-0.04547248, -0.04464164,  0.03906215, ...,  0.02655962,\n",
       "         0.04452837, -0.02593034],\n",
       "       [-0.04547248, -0.04464164, -0.0730303 , ..., -0.03949338,\n",
       "        -0.00421986,  0.00306441]])"
      ]
     },
     "execution_count": 2,
     "metadata": {},
     "output_type": "execute_result"
    }
   ],
   "source": [
    "load_diabetes().data"
   ]
  },
  {
   "cell_type": "code",
   "execution_count": 3,
   "metadata": {},
   "outputs": [
    {
     "data": {
      "text/plain": [
       "array([151.,  75., 141., 206., 135.,  97., 138.,  63., 110., 310., 101.,\n",
       "        69., 179., 185., 118., 171., 166., 144.,  97., 168.,  68.,  49.,\n",
       "        68., 245., 184., 202., 137.,  85., 131., 283., 129.,  59., 341.,\n",
       "        87.,  65., 102., 265., 276., 252.,  90., 100.,  55.,  61.,  92.,\n",
       "       259.,  53., 190., 142.,  75., 142., 155., 225.,  59., 104., 182.,\n",
       "       128.,  52.,  37., 170., 170.,  61., 144.,  52., 128.,  71., 163.,\n",
       "       150.,  97., 160., 178.,  48., 270., 202., 111.,  85.,  42., 170.,\n",
       "       200., 252., 113., 143.,  51.,  52., 210.,  65., 141.,  55., 134.,\n",
       "        42., 111.,  98., 164.,  48.,  96.,  90., 162., 150., 279.,  92.,\n",
       "        83., 128., 102., 302., 198.,  95.,  53., 134., 144., 232.,  81.,\n",
       "       104.,  59., 246., 297., 258., 229., 275., 281., 179., 200., 200.,\n",
       "       173., 180.,  84., 121., 161.,  99., 109., 115., 268., 274., 158.,\n",
       "       107.,  83., 103., 272.,  85., 280., 336., 281., 118., 317., 235.,\n",
       "        60., 174., 259., 178., 128.,  96., 126., 288.,  88., 292.,  71.,\n",
       "       197., 186.,  25.,  84.,  96., 195.,  53., 217., 172., 131., 214.,\n",
       "        59.,  70., 220., 268., 152.,  47.,  74., 295., 101., 151., 127.,\n",
       "       237., 225.,  81., 151., 107.,  64., 138., 185., 265., 101., 137.,\n",
       "       143., 141.,  79., 292., 178.,  91., 116.,  86., 122.,  72., 129.,\n",
       "       142.,  90., 158.,  39., 196., 222., 277.,  99., 196., 202., 155.,\n",
       "        77., 191.,  70.,  73.,  49.,  65., 263., 248., 296., 214., 185.,\n",
       "        78.,  93., 252., 150.,  77., 208.,  77., 108., 160.,  53., 220.,\n",
       "       154., 259.,  90., 246., 124.,  67.,  72., 257., 262., 275., 177.,\n",
       "        71.,  47., 187., 125.,  78.,  51., 258., 215., 303., 243.,  91.,\n",
       "       150., 310., 153., 346.,  63.,  89.,  50.,  39., 103., 308., 116.,\n",
       "       145.,  74.,  45., 115., 264.,  87., 202., 127., 182., 241.,  66.,\n",
       "        94., 283.,  64., 102., 200., 265.,  94., 230., 181., 156., 233.,\n",
       "        60., 219.,  80.,  68., 332., 248.,  84., 200.,  55.,  85.,  89.,\n",
       "        31., 129.,  83., 275.,  65., 198., 236., 253., 124.,  44., 172.,\n",
       "       114., 142., 109., 180., 144., 163., 147.,  97., 220., 190., 109.,\n",
       "       191., 122., 230., 242., 248., 249., 192., 131., 237.,  78., 135.,\n",
       "       244., 199., 270., 164.,  72.,  96., 306.,  91., 214.,  95., 216.,\n",
       "       263., 178., 113., 200., 139., 139.,  88., 148.,  88., 243.,  71.,\n",
       "        77., 109., 272.,  60.,  54., 221.,  90., 311., 281., 182., 321.,\n",
       "        58., 262., 206., 233., 242., 123., 167.,  63., 197.,  71., 168.,\n",
       "       140., 217., 121., 235., 245.,  40.,  52., 104., 132.,  88.,  69.,\n",
       "       219.,  72., 201., 110.,  51., 277.,  63., 118.,  69., 273., 258.,\n",
       "        43., 198., 242., 232., 175.,  93., 168., 275., 293., 281.,  72.,\n",
       "       140., 189., 181., 209., 136., 261., 113., 131., 174., 257.,  55.,\n",
       "        84.,  42., 146., 212., 233.,  91., 111., 152., 120.,  67., 310.,\n",
       "        94., 183.,  66., 173.,  72.,  49.,  64.,  48., 178., 104., 132.,\n",
       "       220.,  57.])"
      ]
     },
     "execution_count": 3,
     "metadata": {},
     "output_type": "execute_result"
    }
   ],
   "source": [
    "load_diabetes().target"
   ]
  },
  {
   "cell_type": "code",
   "execution_count": 4,
   "metadata": {},
   "outputs": [],
   "source": [
    "diabetes = load_diabetes()"
   ]
  },
  {
   "cell_type": "code",
   "execution_count": 5,
   "metadata": {},
   "outputs": [
    {
     "data": {
      "text/plain": [
       "array([[ 0.03807591,  0.05068012,  0.06169621, ..., -0.00259226,\n",
       "         0.01990842, -0.01764613],\n",
       "       [-0.00188202, -0.04464164, -0.05147406, ..., -0.03949338,\n",
       "        -0.06832974, -0.09220405],\n",
       "       [ 0.08529891,  0.05068012,  0.04445121, ..., -0.00259226,\n",
       "         0.00286377, -0.02593034],\n",
       "       ...,\n",
       "       [ 0.04170844,  0.05068012, -0.01590626, ..., -0.01107952,\n",
       "        -0.04687948,  0.01549073],\n",
       "       [-0.04547248, -0.04464164,  0.03906215, ...,  0.02655962,\n",
       "         0.04452837, -0.02593034],\n",
       "       [-0.04547248, -0.04464164, -0.0730303 , ..., -0.03949338,\n",
       "        -0.00421986,  0.00306441]])"
      ]
     },
     "execution_count": 5,
     "metadata": {},
     "output_type": "execute_result"
    }
   ],
   "source": [
    "diabetes.data"
   ]
  },
  {
   "cell_type": "code",
   "execution_count": 6,
   "metadata": {},
   "outputs": [
    {
     "data": {
      "text/plain": [
       "array([151.,  75., 141., 206., 135.,  97., 138.,  63., 110., 310., 101.,\n",
       "        69., 179., 185., 118., 171., 166., 144.,  97., 168.,  68.,  49.,\n",
       "        68., 245., 184., 202., 137.,  85., 131., 283., 129.,  59., 341.,\n",
       "        87.,  65., 102., 265., 276., 252.,  90., 100.,  55.,  61.,  92.,\n",
       "       259.,  53., 190., 142.,  75., 142., 155., 225.,  59., 104., 182.,\n",
       "       128.,  52.,  37., 170., 170.,  61., 144.,  52., 128.,  71., 163.,\n",
       "       150.,  97., 160., 178.,  48., 270., 202., 111.,  85.,  42., 170.,\n",
       "       200., 252., 113., 143.,  51.,  52., 210.,  65., 141.,  55., 134.,\n",
       "        42., 111.,  98., 164.,  48.,  96.,  90., 162., 150., 279.,  92.,\n",
       "        83., 128., 102., 302., 198.,  95.,  53., 134., 144., 232.,  81.,\n",
       "       104.,  59., 246., 297., 258., 229., 275., 281., 179., 200., 200.,\n",
       "       173., 180.,  84., 121., 161.,  99., 109., 115., 268., 274., 158.,\n",
       "       107.,  83., 103., 272.,  85., 280., 336., 281., 118., 317., 235.,\n",
       "        60., 174., 259., 178., 128.,  96., 126., 288.,  88., 292.,  71.,\n",
       "       197., 186.,  25.,  84.,  96., 195.,  53., 217., 172., 131., 214.,\n",
       "        59.,  70., 220., 268., 152.,  47.,  74., 295., 101., 151., 127.,\n",
       "       237., 225.,  81., 151., 107.,  64., 138., 185., 265., 101., 137.,\n",
       "       143., 141.,  79., 292., 178.,  91., 116.,  86., 122.,  72., 129.,\n",
       "       142.,  90., 158.,  39., 196., 222., 277.,  99., 196., 202., 155.,\n",
       "        77., 191.,  70.,  73.,  49.,  65., 263., 248., 296., 214., 185.,\n",
       "        78.,  93., 252., 150.,  77., 208.,  77., 108., 160.,  53., 220.,\n",
       "       154., 259.,  90., 246., 124.,  67.,  72., 257., 262., 275., 177.,\n",
       "        71.,  47., 187., 125.,  78.,  51., 258., 215., 303., 243.,  91.,\n",
       "       150., 310., 153., 346.,  63.,  89.,  50.,  39., 103., 308., 116.,\n",
       "       145.,  74.,  45., 115., 264.,  87., 202., 127., 182., 241.,  66.,\n",
       "        94., 283.,  64., 102., 200., 265.,  94., 230., 181., 156., 233.,\n",
       "        60., 219.,  80.,  68., 332., 248.,  84., 200.,  55.,  85.,  89.,\n",
       "        31., 129.,  83., 275.,  65., 198., 236., 253., 124.,  44., 172.,\n",
       "       114., 142., 109., 180., 144., 163., 147.,  97., 220., 190., 109.,\n",
       "       191., 122., 230., 242., 248., 249., 192., 131., 237.,  78., 135.,\n",
       "       244., 199., 270., 164.,  72.,  96., 306.,  91., 214.,  95., 216.,\n",
       "       263., 178., 113., 200., 139., 139.,  88., 148.,  88., 243.,  71.,\n",
       "        77., 109., 272.,  60.,  54., 221.,  90., 311., 281., 182., 321.,\n",
       "        58., 262., 206., 233., 242., 123., 167.,  63., 197.,  71., 168.,\n",
       "       140., 217., 121., 235., 245.,  40.,  52., 104., 132.,  88.,  69.,\n",
       "       219.,  72., 201., 110.,  51., 277.,  63., 118.,  69., 273., 258.,\n",
       "        43., 198., 242., 232., 175.,  93., 168., 275., 293., 281.,  72.,\n",
       "       140., 189., 181., 209., 136., 261., 113., 131., 174., 257.,  55.,\n",
       "        84.,  42., 146., 212., 233.,  91., 111., 152., 120.,  67., 310.,\n",
       "        94., 183.,  66., 173.,  72.,  49.,  64.,  48., 178., 104., 132.,\n",
       "       220.,  57.])"
      ]
     },
     "execution_count": 6,
     "metadata": {},
     "output_type": "execute_result"
    }
   ],
   "source": [
    "diabetes.target"
   ]
  },
  {
   "cell_type": "code",
   "execution_count": 7,
   "metadata": {},
   "outputs": [],
   "source": [
    "x = diabetes.data\n",
    "y = diabetes.target"
   ]
  },
  {
   "cell_type": "code",
   "execution_count": 8,
   "metadata": {},
   "outputs": [
    {
     "data": {
      "text/plain": [
       "((442, 10), (442,))"
      ]
     },
     "execution_count": 8,
     "metadata": {},
     "output_type": "execute_result"
    }
   ],
   "source": [
    "(x.shape, y.shape)"
   ]
  },
  {
   "cell_type": "code",
   "execution_count": 9,
   "metadata": {},
   "outputs": [],
   "source": [
    "x = x[:, 2]  #전체 데이터셋에서 3번째 특성"
   ]
  },
  {
   "cell_type": "code",
   "execution_count": 10,
   "metadata": {},
   "outputs": [
    {
     "data": {
      "text/plain": [
       "array([ 0.06169621, -0.05147406,  0.04445121, -0.01159501, -0.03638469,\n",
       "       -0.04069594, -0.04716281, -0.00189471,  0.06169621,  0.03906215,\n",
       "       -0.08380842,  0.01750591, -0.02884001, -0.00189471, -0.02560657,\n",
       "       -0.01806189,  0.04229559,  0.01211685, -0.0105172 , -0.01806189,\n",
       "       -0.05686312, -0.02237314, -0.00405033,  0.06061839,  0.03582872,\n",
       "       -0.01267283, -0.07734155,  0.05954058, -0.02129532, -0.00620595,\n",
       "        0.04445121, -0.06548562,  0.12528712, -0.05039625, -0.06332999,\n",
       "       -0.03099563,  0.02289497,  0.01103904,  0.07139652,  0.01427248,\n",
       "       -0.00836158, -0.06764124, -0.0105172 , -0.02345095,  0.06816308,\n",
       "       -0.03530688, -0.01159501, -0.0730303 , -0.04177375,  0.01427248,\n",
       "       -0.00728377,  0.0164281 , -0.00943939, -0.01590626,  0.0250506 ,\n",
       "       -0.04931844,  0.04121778, -0.06332999, -0.06440781, -0.02560657,\n",
       "       -0.00405033,  0.00457217, -0.00728377, -0.0374625 , -0.02560657,\n",
       "       -0.02452876, -0.01806189, -0.01482845, -0.02991782, -0.046085  ,\n",
       "       -0.06979687,  0.03367309, -0.00405033, -0.02021751,  0.00241654,\n",
       "       -0.03099563,  0.02828403, -0.03638469, -0.05794093, -0.0374625 ,\n",
       "        0.01211685, -0.02237314, -0.03530688,  0.00996123, -0.03961813,\n",
       "        0.07139652, -0.07518593, -0.00620595, -0.04069594, -0.04824063,\n",
       "       -0.02560657,  0.0519959 ,  0.00457217, -0.06440781, -0.01698407,\n",
       "       -0.05794093,  0.00996123,  0.08864151, -0.00512814, -0.06440781,\n",
       "        0.01750591, -0.04500719,  0.02828403,  0.04121778,  0.06492964,\n",
       "       -0.03207344, -0.07626374,  0.04984027,  0.04552903, -0.00943939,\n",
       "       -0.03207344,  0.00457217,  0.02073935,  0.01427248,  0.11019775,\n",
       "        0.00133873,  0.05846277, -0.02129532, -0.0105172 , -0.04716281,\n",
       "        0.00457217,  0.01750591,  0.08109682,  0.0347509 ,  0.02397278,\n",
       "       -0.00836158, -0.06117437, -0.00189471, -0.06225218,  0.0164281 ,\n",
       "        0.09618619, -0.06979687, -0.02129532, -0.05362969,  0.0433734 ,\n",
       "        0.05630715, -0.0816528 ,  0.04984027,  0.11127556,  0.06169621,\n",
       "        0.01427248,  0.04768465,  0.01211685,  0.00564998,  0.04660684,\n",
       "        0.12852056,  0.05954058,  0.09295276,  0.01535029, -0.00512814,\n",
       "        0.0703187 , -0.00405033, -0.00081689, -0.04392938,  0.02073935,\n",
       "        0.06061839, -0.0105172 , -0.03315126, -0.06548562,  0.0433734 ,\n",
       "       -0.06225218,  0.06385183,  0.03043966,  0.07247433, -0.0191397 ,\n",
       "       -0.06656343, -0.06009656,  0.06924089,  0.05954058, -0.02668438,\n",
       "       -0.02021751, -0.046085  ,  0.07139652, -0.07949718,  0.00996123,\n",
       "       -0.03854032,  0.01966154,  0.02720622, -0.00836158, -0.01590626,\n",
       "        0.00457217, -0.04285156,  0.00564998, -0.03530688,  0.02397278,\n",
       "       -0.01806189,  0.04229559, -0.0547075 , -0.00297252, -0.06656343,\n",
       "       -0.01267283, -0.04177375, -0.03099563, -0.00512814, -0.05901875,\n",
       "        0.0250506 , -0.046085  ,  0.00349435,  0.05415152, -0.04500719,\n",
       "       -0.05794093, -0.05578531,  0.00133873,  0.03043966,  0.00672779,\n",
       "        0.04660684,  0.02612841,  0.04552903,  0.04013997, -0.01806189,\n",
       "        0.01427248,  0.03690653,  0.00349435, -0.07087468, -0.03315126,\n",
       "        0.09403057,  0.03582872,  0.03151747, -0.06548562, -0.04177375,\n",
       "       -0.03961813, -0.03854032, -0.02560657, -0.02345095, -0.06656343,\n",
       "        0.03259528, -0.046085  , -0.02991782, -0.01267283, -0.01590626,\n",
       "        0.07139652, -0.03099563,  0.00026092,  0.03690653,  0.03906215,\n",
       "       -0.01482845,  0.00672779, -0.06871905, -0.00943939,  0.01966154,\n",
       "        0.07462995, -0.00836158, -0.02345095, -0.046085  ,  0.05415152,\n",
       "       -0.03530688, -0.03207344, -0.0816528 ,  0.04768465,  0.06061839,\n",
       "        0.05630715,  0.09834182,  0.05954058,  0.03367309,  0.05630715,\n",
       "       -0.06548562,  0.16085492, -0.05578531, -0.02452876, -0.03638469,\n",
       "       -0.00836158, -0.04177375,  0.12744274, -0.07734155,  0.02828403,\n",
       "       -0.02560657, -0.06225218, -0.00081689,  0.08864151, -0.03207344,\n",
       "        0.03043966,  0.00888341,  0.00672779, -0.02021751, -0.02452876,\n",
       "       -0.01159501,  0.02612841, -0.05901875, -0.03638469, -0.02452876,\n",
       "        0.01858372, -0.0902753 , -0.00512814, -0.05255187, -0.02237314,\n",
       "       -0.02021751, -0.0547075 , -0.00620595, -0.01698407,  0.05522933,\n",
       "        0.07678558,  0.01858372, -0.02237314,  0.09295276, -0.03099563,\n",
       "        0.03906215, -0.06117437, -0.00836158, -0.0374625 , -0.01375064,\n",
       "        0.07355214, -0.02452876,  0.03367309,  0.0347509 , -0.03854032,\n",
       "       -0.03961813, -0.00189471, -0.03099563, -0.046085  ,  0.00133873,\n",
       "        0.06492964,  0.04013997, -0.02345095,  0.05307371,  0.04013997,\n",
       "       -0.02021751,  0.01427248, -0.03422907,  0.00672779,  0.00457217,\n",
       "        0.03043966,  0.0519959 ,  0.06169621, -0.00728377,  0.00564998,\n",
       "        0.05415152, -0.00836158,  0.114509  ,  0.06708527, -0.05578531,\n",
       "        0.03043966, -0.02560657,  0.10480869, -0.00620595, -0.04716281,\n",
       "       -0.04824063,  0.08540807, -0.01267283, -0.03315126, -0.00728377,\n",
       "       -0.01375064,  0.05954058,  0.02181716,  0.01858372, -0.01159501,\n",
       "       -0.00297252,  0.01750591, -0.02991782, -0.02021751, -0.05794093,\n",
       "        0.06061839, -0.04069594, -0.07195249, -0.05578531,  0.04552903,\n",
       "       -0.00943939, -0.03315126,  0.04984027, -0.08488624,  0.00564998,\n",
       "        0.02073935, -0.00728377,  0.10480869, -0.02452876, -0.00620595,\n",
       "       -0.03854032,  0.13714305,  0.17055523,  0.00241654,  0.03798434,\n",
       "       -0.05794093, -0.00943939, -0.02345095, -0.0105172 , -0.03422907,\n",
       "       -0.00297252,  0.06816308,  0.00996123,  0.00241654, -0.03854032,\n",
       "        0.02612841, -0.08919748,  0.06061839, -0.02884001, -0.02991782,\n",
       "       -0.0191397 , -0.04069594,  0.01535029, -0.02452876,  0.00133873,\n",
       "        0.06924089, -0.06979687, -0.02991782, -0.046085  ,  0.01858372,\n",
       "        0.00133873, -0.03099563, -0.00405033,  0.01535029,  0.02289497,\n",
       "        0.04552903, -0.04500719, -0.03315126,  0.097264  ,  0.05415152,\n",
       "        0.12313149, -0.08057499,  0.09295276, -0.05039625, -0.01159501,\n",
       "       -0.0277622 ,  0.05846277,  0.08540807, -0.00081689,  0.00672779,\n",
       "        0.00888341,  0.08001901,  0.07139652, -0.02452876, -0.0547075 ,\n",
       "       -0.03638469,  0.0164281 ,  0.07786339, -0.03961813,  0.01103904,\n",
       "       -0.04069594, -0.03422907,  0.00564998,  0.08864151, -0.03315126,\n",
       "       -0.05686312, -0.03099563,  0.05522933, -0.06009656,  0.00133873,\n",
       "       -0.02345095, -0.07410811,  0.01966154, -0.01590626, -0.01590626,\n",
       "        0.03906215, -0.0730303 ])"
      ]
     },
     "execution_count": 10,
     "metadata": {},
     "output_type": "execute_result"
    }
   ],
   "source": [
    "x"
   ]
  },
  {
   "cell_type": "code",
   "execution_count": 11,
   "metadata": {},
   "outputs": [
    {
     "data": {
      "text/plain": [
       "<matplotlib.collections.PathCollection at 0x288848490c8>"
      ]
     },
     "execution_count": 11,
     "metadata": {},
     "output_type": "execute_result"
    }
   ],
   "source": [
    "import matplotlib.pyplot as plt\n",
    "\n",
    "plt.figure(figsize = (10, 5))\n",
    "plt.xlabel('x', color = 'r', fontsize = 15)\n",
    "plt.ylabel('y', rotation = 1, color = 'r', fontsize = 15)\n",
    "plt.xticks(fontsize = '12', color = 'r')\n",
    "plt.yticks(fontsize = '12', color = 'r')\n",
    "plt.scatter(x, y)"
   ]
  },
  {
   "cell_type": "code",
   "execution_count": 12,
   "metadata": {},
   "outputs": [
    {
     "name": "stdout",
     "output_type": "stream",
     "text": [
      "151.0\n"
     ]
    },
    {
     "data": {
      "text/plain": [
       "1.0616962065186886"
      ]
     },
     "execution_count": 12,
     "metadata": {},
     "output_type": "execute_result"
    }
   ],
   "source": [
    "w = 1\n",
    "b = 1\n",
    "\n",
    "y_hat = w*x[0] + b\n",
    "\n",
    "print(y[0])\n",
    "y_hat"
   ]
  },
  {
   "cell_type": "code",
   "execution_count": 13,
   "metadata": {},
   "outputs": [
    {
     "name": "stdout",
     "output_type": "stream",
     "text": [
      "151.0\n"
     ]
    },
    {
     "data": {
      "text/plain": [
       "151.57072844302795"
      ]
     },
     "execution_count": 13,
     "metadata": {},
     "output_type": "execute_result"
    }
   ],
   "source": [
    "err = y[0] - y_hat\n",
    "w_new = w + x[0] * err\n",
    "b_new = b + 1 * err\n",
    "y_hat_new = w_new * x[0] + b_new\n",
    "\n",
    "print(y[0])\n",
    "y_hat_new"
   ]
  },
  {
   "cell_type": "code",
   "execution_count": 14,
   "metadata": {},
   "outputs": [
    {
     "data": {
      "text/plain": [
       "442"
      ]
     },
     "execution_count": 14,
     "metadata": {},
     "output_type": "execute_result"
    }
   ],
   "source": [
    "len(x)"
   ]
  },
  {
   "cell_type": "code",
   "execution_count": 15,
   "metadata": {},
   "outputs": [
    {
     "data": {
      "text/plain": [
       "0.0616962065186885"
      ]
     },
     "execution_count": 15,
     "metadata": {},
     "output_type": "execute_result"
    }
   ],
   "source": [
    "x[0]"
   ]
  },
  {
   "cell_type": "code",
   "execution_count": 18,
   "metadata": {},
   "outputs": [
    {
     "name": "stdout",
     "output_type": "stream",
     "text": [
      "913.5973364345905 123.39414383177204\n"
     ]
    }
   ],
   "source": [
    "for i in range(1, 100):\n",
    "    for n in range(len(x)):\n",
    "        y_hat = x[n] * w + b\n",
    "        err = y[n] - y_hat\n",
    "        w = w + x[n] * err\n",
    "        b = b + 1 * err\n",
    "    \n",
    "print(w, b)"
   ]
  },
  {
   "cell_type": "code",
   "execution_count": 20,
   "metadata": {},
   "outputs": [
    {
     "data": {
      "text/plain": [
       "[<matplotlib.lines.Line2D at 0x28885b9bd08>]"
      ]
     },
     "execution_count": 20,
     "metadata": {},
     "output_type": "execute_result"
    },
    {
     "data": {
      "image/png": "[encoded data removed]",
      "text/plain": [
       "<Figure size 504x360 with 1 Axes>"
      ]
     },
     "metadata": {
      "needs_background": "light"
     },
     "output_type": "display_data"
    }
   ],
   "source": [
    "plt.figure(figsize = (7, 5))\n",
    "plt.xlabel('x', color = 'r', fontsize = 15)\n",
    "plt.ylabel('y', rotation = 1, color = 'r', fontsize = 15)\n",
    "plt.xticks(fontsize = '12', color = 'r')\n",
    "plt.yticks(fontsize = '12', color = 'r')\n",
    "plt.scatter(x, y)\n",
    "\n",
    "pt1 = (-0.1, -0.1 * w + b)\n",
    "pt2 = (0.15, 0.15 * w + b)\n",
    "plt.plot([pt1[0], pt2[0]], [pt1[1], pt2[1]])"
   ]
  },
  {
   "cell_type": "code",
   "execution_count": 26,
   "metadata": {},
   "outputs": [
    {
     "data": {
      "text/plain": [
       "287.8416643899983"
      ]
     },
     "execution_count": 26,
     "metadata": {},
     "output_type": "execute_result"
    }
   ],
   "source": [
    "x_new = 0.18\n",
    "y_pred = x_new * w + b\n",
    "y_pred"
   ]
  },
  {
   "cell_type": "code",
   "execution_count": 28,
   "metadata": {},
   "outputs": [
    {
     "data": {
      "text/plain": [
       "<matplotlib.collections.PathCollection at 0x28885d41388>"
      ]
     },
     "execution_count": 28,
     "metadata": {},
     "output_type": "execute_result"
    },
    {
     "data": {
      "image/png": "[encoded data removed]",
      "text/plain": [
       "<Figure size 504x360 with 1 Axes>"
      ]
     },
     "metadata": {
      "needs_background": "light"
     },
     "output_type": "display_data"
    }
   ],
   "source": [
    "plt.figure(figsize = (7, 5))\n",
    "plt.xlabel('x', color = 'r', fontsize = 15)\n",
    "plt.ylabel('y', rotation = 1, color = 'r', fontsize = 15)\n",
    "plt.xticks(fontsize = '12', color = 'r')\n",
    "plt.yticks(fontsize = '12', color = 'r')\n",
    "plt.scatter(x, y)\n",
    "plt.scatter(x_new, y_pred)"
   ]
  }
 ],
 "metadata": {
  "kernelspec": {
   "display_name": "Python 3",
   "language": "python",
   "name": "python3"
  },
  "language_info": {
   "codemirror_mode": {
    "name": "ipython",
    "version": 3
   },
   "file_extension": ".py",
   "mimetype": "text/x-python",
   "name": "python",
   "nbconvert_exporter": "python",
   "pygments_lexer": "ipython3",
   "version": "3.7.4"
  }
 },
 "nbformat": 4,
 "nbformat_minor": 2
}
